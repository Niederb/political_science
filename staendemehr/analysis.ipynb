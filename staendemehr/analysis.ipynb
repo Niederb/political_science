{
 "metadata": {
  "language_info": {
   "codemirror_mode": {
    "name": "ipython",
    "version": 3
   },
   "file_extension": ".py",
   "mimetype": "text/x-python",
   "name": "python",
   "nbconvert_exporter": "python",
   "pygments_lexer": "ipython3",
   "version": "3.8.6-final"
  },
  "orig_nbformat": 2,
  "kernelspec": {
   "name": "python3",
   "display_name": "Python 3.8.6 64-bit",
   "metadata": {
    "interpreter": {
     "hash": "31f2aee4e71d21fbe5cf8b01ff0e069b9275f58929596ceb00d14d90e3e16cd6"
    }
   }
  }
 },
 "nbformat": 4,
 "nbformat_minor": 2,
 "cells": [
  {
   "cell_type": "code",
   "execution_count": 38,
   "metadata": {},
   "outputs": [
    {
     "output_type": "stream",
     "name": "stdout",
     "text": [
      "Number of invalid staende results: 0\nNumber of times the popular count and staende disagree: 202\n"
     ]
    }
   ],
   "source": [
    "import pandas as pd\n",
    "\n",
    "df = pd.read_csv(\"../Daten/swissvotes-dataset.csv\", delimiter=\";\", na_values=\".\")\n",
    "# Exclude data from votes with missing values (very first and of the last)\n",
    "df = df.iloc[1:-12, :]\n",
    "# Extract some data rows for comparison and verification\n",
    "volk = df[\"volk\"].iloc[:]\n",
    "stand = df[\"stand\"].iloc[:]\n",
    "kt_ja = df[\"kt-ja\"].iloc[:]\n",
    "kt_nein = df[\"kt-nein\"].iloc[:]\n",
    "ktjaproz = df[\"ktjaproz\"].iloc[:]\n",
    "# Do some sanity checks on the data\n",
    "staende = kt_ja + kt_nein\n",
    "invalid_results = (staende > 23).sum() + (staende < 22).sum()\n",
    "print(\"Number of invalid staende results: {}\".format(invalid_results))\n",
    "print(\"Number of times the popular count and staende disagree: {}\".format((volk != stand).sum()))\n"
   ]
  },
  {
   "cell_type": "code",
   "execution_count": 30,
   "metadata": {},
   "outputs": [],
   "source": [
    "df = df.set_index('anr').transpose()\n",
    "df_results = df[df.index.str.endswith(\"-japroz\")]\n",
    "number_cantons = df_results.count()\n",
    "weights = df_results[3.0]\n",
    "weights[:] = 1.0\n",
    "weights.loc[['ar-japroz','ai-japroz','ow-japroz','nw-japroz','bl-japroz','bs-japroz']] = 0.5"
   ]
  },
  {
   "cell_type": "code",
   "execution_count": 40,
   "metadata": {},
   "outputs": [
    {
     "output_type": "stream",
     "name": "stdout",
     "text": [
      "Number of times the popular count and staende disagree: 258\n"
     ]
    },
    {
     "output_type": "execute_result",
     "data": {
      "text/plain": [
       "0"
      ]
     },
     "metadata": {},
     "execution_count": 40
    }
   ],
   "source": [
    "cantons_yes = (df_results > 50.0).sum() > number_cantons\n",
    "cantons_yes = cantons_yes.reset_index(drop=True)\n",
    "stand = stand.reset_index(drop=True)\n",
    "disagreements = (cantons_yes == (stand > 0.9)).sum()\n",
    "print(\"Number of times the popular count and staende disagree: {}\".format(disagreements))"
   ]
  },
  {
   "cell_type": "code",
   "execution_count": 32,
   "metadata": {},
   "outputs": [
    {
     "output_type": "execute_result",
     "data": {
      "text/plain": [
       "False"
      ]
     },
     "metadata": {},
     "execution_count": 32
    }
   ],
   "source": [
    "results_b_u = (df_results > 50.0)\n",
    "results_b_w = (df_results > 50.0).multiply(weights, axis=0)\n",
    "kt_ja = kt_ja.reset_index(drop=True)\n",
    "my_kt_ja_b_u = results_b_u.sum() > number_cantons/2\n",
    "my_kt_ja_b_u = my_kt_ja_b_u.reset_index(drop=True)\n",
    "my_kt_ja_b_w = results_b_w.sum() > (number_cantons-3.0)/2\n",
    "my_kt_ja_b_w = my_kt_ja_b_w.reset_index(drop=True)\n",
    "\n",
    "results_p_u = df_results.sum()\n",
    "results_p_w = (df_results > 50.0).sum()\n",
    "my_kt_ja_p_u = results_p_u > 50.0*number_cantons\n",
    "my_kt_ja_p_u = my_kt_ja_p_u.reset_index(drop=True)\n",
    "my_kt_ja_p_w = results_p_w > 50.0*(number_cantons-3.0)\n",
    "my_kt_ja_p_w = my_kt_ja_p_w.reset_index(drop=True)\n",
    "\n",
    "same = (my_kt_ja_b_w == my_kt_ja_p_u)\n",
    "same.index[same == False]\n",
    "my_kt_ja_b_w.iloc[1]"
   ]
  },
  {
   "cell_type": "code",
   "execution_count": 33,
   "metadata": {},
   "outputs": [
    {
     "output_type": "execute_result",
     "data": {
      "text/plain": [
       "datum                                                    13.03.1977\n",
       "titel_kurz_d      Neuordnung des Staatsvertragsreferendums (Gege...\n",
       "titel_kurz_f      Dispositions sur le référendum en matière de t...\n",
       "titel_off_d       Bundesbeschluss über  die Neuordnung  des Staa...\n",
       "titel_off_f       Arrêté fédéral instituant de nouvelles disposi...\n",
       "                                        ...                        \n",
       "bfsmap-de         https://www.atlas.bfs.admin.ch/maps/12/map/map...\n",
       "bfsmap-fr         https://www.atlas.bfs.admin.ch/maps/12/map/map...\n",
       "nach_cockpit_d                                                  NaN\n",
       "nach_cockpit_f                                                  NaN\n",
       "nach_cockpit_e                                                  NaN\n",
       "Name: 267.2, Length: 751, dtype: object"
      ]
     },
     "metadata": {},
     "execution_count": 33
    }
   ],
   "source": [
    "df.iloc[:, 275]"
   ]
  },
  {
   "cell_type": "code",
   "execution_count": null,
   "metadata": {},
   "outputs": [],
   "source": []
  }
 ]
}