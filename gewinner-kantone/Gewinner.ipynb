{
 "cells": [
  {
   "cell_type": "code",
   "execution_count": 7,
   "metadata": {
    "collapsed": true
   },
   "outputs": [],
   "source": [
    "import pandas as pd\n",
    "import numpy as np\n",
    "import plotly.plotly as py\n",
    "import plotly.graph_objs as go\n",
    "\n",
    "df = pd.read_csv(\"https://raw.githubusercontent.com/Niederb/political_science/master/gewinner-kantone/alle-volksabstimmungen-resultate.csv\", sep=\";\")#, encoding=\"ascii\")\n",
    "\n",
    "stimmberechtigte = pd.read_csv(\"https://raw.githubusercontent.com/Niederb/political_science/master/gewinner-kantone/stimmberechtigte.csv\", sep=\";\")\n",
    "\n",
    "data = df[list(df.columns[2:-1])] #df.ix[:,[2:5]]#'Schweiz':]\n",
    "\n",
    "data_mat = data.as_matrix()\n",
    "schweiz = data_mat[:, 0]\n",
    "kantone = data_mat[:, 1:]\n",
    "schweiz_thresholded = schweiz > 50\n",
    "kantone_thresholded = kantone > 50\n",
    "\n",
    "korrekt = schweiz_thresholded == kantone_thresholded.T\n",
    "korrekt = korrekt.T\n",
    "success_rate = np.mean(korrekt, 0)\n",
    "\n",
    "L1_error = np.abs(schweiz - kantone.T)\n",
    "L2_error = np.sqrt(np.sum(np.square(L1_error), 1))\n",
    "mean_L1_error = np.mean(L1_error, 1)\n",
    "\n",
    "\n",
    "\n",
    "\n",
    "stimmberechtigte_2 = np.mean(stimmberechtigte.as_matrix(), 0)\n",
    "kantonsnamen = list(stimmberechtigte)\n"
   ]
  },
  {
   "cell_type": "code",
   "execution_count": 21,
   "metadata": {
    "collapsed": false
   },
   "outputs": [
    {
     "data": {
      "text/html": [
       "<iframe id=\"igraph\" scrolling=\"no\" style=\"border:none;\" seamless=\"seamless\" src=\"https://plot.ly/~Niederb/36.embed\" height=\"525px\" width=\"100%\"></iframe>"
      ],
      "text/plain": [
       "<plotly.tools.PlotlyDisplay object>"
      ]
     },
     "execution_count": 21,
     "metadata": {},
     "output_type": "execute_result"
    }
   ],
   "source": [
    "trace = go.Scatter(\n",
    "    x = success_rate,\n",
    "    y = stimmberechtigte_2,\n",
    "    mode = 'markers',\n",
    "    marker = dict(\n",
    "        size = 20,\n",
    "        color = 'rgba(255, 161, 0, 1.0)',\n",
    "        line = dict(\n",
    "                width = 2,\n",
    "            )\n",
    "        ),\n",
    "    text=kantonsnamen\n",
    ")\n",
    "layout = go.Layout(\n",
    "    hovermode = 'closest',\n",
    "    title='Erfolgsrate vs Stimmberechtigte',\n",
    "    xaxis=dict(title='Erfolgsrate in %'),\n",
    "    yaxis=dict(title='Anzahl Stimmberechtigte (Durchschnitt)')\n",
    "    )\n",
    "data = [trace] \n",
    "fig = go.Figure(data=data, layout=layout)\n",
    "py.iplot(fig, filename='erfolgsrate')"
   ]
  },
  {
   "cell_type": "code",
   "execution_count": 22,
   "metadata": {
    "collapsed": false
   },
   "outputs": [
    {
     "data": {
      "text/html": [
       "<iframe id=\"igraph\" scrolling=\"no\" style=\"border:none;\" seamless=\"seamless\" src=\"https://plot.ly/~Niederb/38.embed\" height=\"525px\" width=\"100%\"></iframe>"
      ],
      "text/plain": [
       "<plotly.tools.PlotlyDisplay object>"
      ]
     },
     "execution_count": 22,
     "metadata": {},
     "output_type": "execute_result"
    }
   ],
   "source": [
    "trace = go.Scatter(\n",
    "    x = mean_L1_error,\n",
    "    y = stimmberechtigte_2,\n",
    "    mode = 'markers',\n",
    "    marker = dict(\n",
    "        size = 20,\n",
    "        color = 'rgba(255, 161, 0, 1.0)',\n",
    "        line = dict(\n",
    "            width = 2,\n",
    "            )\n",
    "        ),\n",
    "    text=kantonsnamen\n",
    ")\n",
    "layout = go.Layout(\n",
    "    hovermode = 'closest',\n",
    "    title='Abweichung vs Stimmberechtigte',\n",
    "    xaxis=dict(title='Durchschnittliche Abweichung in % (kleiner ist Genauer)'),\n",
    "    yaxis=dict(title='Anzahl Stimmberechtigte (Durchschnitt)')\n",
    "    )\n",
    "data = [trace] \n",
    "fig = go.Figure(data=data, layout=layout)\n",
    "py.iplot(fig, filename='genauigkeit')"
   ]
  },
  {
   "cell_type": "code",
   "execution_count": 20,
   "metadata": {
    "collapsed": false
   },
   "outputs": [
    {
     "data": {
      "text/html": [
       "<iframe id=\"igraph\" scrolling=\"no\" style=\"border:none;\" seamless=\"seamless\" src=\"https://plot.ly/~Niederb/40.embed\" height=\"525px\" width=\"100%\"></iframe>"
      ],
      "text/plain": [
       "<plotly.tools.PlotlyDisplay object>"
      ]
     },
     "execution_count": 20,
     "metadata": {},
     "output_type": "execute_result"
    }
   ],
   "source": [
    "trace = go.Scatter(\n",
    "    x = mean_L1_error,\n",
    "    y = success_rate,\n",
    "    mode = 'markers',\n",
    "    marker = dict(\n",
    "        size = 20,\n",
    "        color = 'rgba(255, 161, 0, 1.0)',\n",
    "        line = dict(\n",
    "            width = 2,\n",
    "            )\n",
    "        ),\n",
    "    text=kantonsnamen\n",
    ")\n",
    "layout = go.Layout(\n",
    "    hovermode = 'closest',\n",
    "    title='Abweichung vs Erfolgsrate',\n",
    "    xaxis=dict(title='Durchschnittliche Abweichung in % (kleiner ist Genauer)'),\n",
    "    yaxis=dict(title='Erfolgsrate in %')\n",
    "    )\n",
    "data = [trace] \n",
    "fig = go.Figure(data=data, layout=layout)\n",
    "py.iplot(fig, filename='korrelation-erfolg-genauigkeit')"
   ]
  },
  {
   "cell_type": "code",
   "execution_count": null,
   "metadata": {
    "collapsed": true
   },
   "outputs": [],
   "source": []
  }
 ],
 "metadata": {
  "kernelspec": {
   "display_name": "Python 3",
   "language": "python",
   "name": "python3"
  },
  "language_info": {
   "codemirror_mode": {
    "name": "ipython",
    "version": 3
   },
   "file_extension": ".py",
   "mimetype": "text/x-python",
   "name": "python",
   "nbconvert_exporter": "python",
   "pygments_lexer": "ipython3",
   "version": "3.5.1"
  }
 },
 "nbformat": 4,
 "nbformat_minor": 2
}
