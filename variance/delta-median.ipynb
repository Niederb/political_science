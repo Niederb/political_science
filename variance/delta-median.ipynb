{
 "cells": [
  {
   "cell_type": "code",
   "execution_count": 1,
   "metadata": {
    "collapsed": false
   },
   "outputs": [],
   "source": [
    "import pandas as pd\n",
    "import numpy as np\n",
    "import plotly.plotly as py\n",
    "import plotly.graph_objs as go\n",
    "\n",
    "df = pd.read_csv(\"https://raw.githubusercontent.com/Niederb/political_science/master/Daten/ja-prozent.csv\", sep=\";\")\n",
    "\n",
    "df = df.reindex(index=df.index[::-1])\n",
    "\n",
    "de = ['Zürich', 'Bern / Berne', 'Luzern', 'Uri', 'Schwyz', 'Obwalden', 'Nidwalden', 'Glarus', 'Zug', 'Solothurn', 'Basel-Stadt', 'Basel-Landschaft', 'Schaffhausen', 'Appenzell Ausserrhoden', 'Appenzell Innerrhoden', 'St. Gallen', 'Graubünden / Grigioni / Grischun', 'Aargau', 'Thurgau']\n",
    "fr = ['Fribourg / Freiburg','Vaud', 'Valais / Wallis', 'Neuchâtel', 'Genève']\n",
    "\n",
    "de_data = df[de]\n",
    "fr_data = df[fr]\n",
    "\n",
    "median_de = np.median(de_data, 1)\n",
    "median_fr = np.median(fr_data, 1)\n",
    "\n",
    "mean_de = np.mean(de_data, 1)\n",
    "mean_fr = np.mean(fr_data, 1)\n",
    "\n",
    "radicality_de = np.mean(np.abs(de_data - 50.0), 1)\n",
    "radicality_fr = np.mean(np.abs(fr_data - 50.0), 1)\n",
    "\n",
    "variance_de = np.var(de_data, 1)\n",
    "variance_fr = np.var(fr_data, 1)\n",
    "\n",
    "delta_median = np.abs(median_de - median_fr)\n",
    "delta_mean = np.abs(mean_de - mean_fr)\n",
    "N = 20\n",
    "moving_avg = np.convolve(delta_mean, np.ones((N,))/N, mode='valid')\n",
    "counter = list(range(1, len(delta_mean)+1))"
   ]
  },
  {
   "cell_type": "code",
   "execution_count": 2,
   "metadata": {
    "collapsed": false
   },
   "outputs": [
    {
     "data": {
      "text/html": [
       "<iframe id=\"igraph\" scrolling=\"no\" style=\"border:none;\" seamless=\"seamless\" src=\"https://plot.ly/~Niederb/48.embed\" height=\"525px\" width=\"100%\"></iframe>"
      ],
      "text/plain": [
       "<plotly.tools.PlotlyDisplay object>"
      ]
     },
     "execution_count": 2,
     "metadata": {},
     "output_type": "execute_result"
    }
   ],
   "source": [
    "mean = go.Scatter(\n",
    "    x=counter,\n",
    "    y=delta_mean,\n",
    "    mode='lines',\n",
    "    connectgaps=True,\n",
    "    name = \"Delta Mittelwerte\"\n",
    ")\n",
    "median = go.Scatter(\n",
    "    x=counter,\n",
    "    y=delta_median,\n",
    "    mode='lines',\n",
    "    connectgaps=True,\n",
    "    name = \"Delta Medianwerte\"\n",
    ")\n",
    "moving_avg = go.Scatter(\n",
    "    x=counter,\n",
    "    y=moving_avg,\n",
    "    mode='lines',\n",
    "    connectgaps=True,\n",
    "    name = \"Gleitendes Delta Mittelwerte (N=20)\" \n",
    ")\n",
    "layout = go.Layout(\n",
    "        title='Unterschied Deutschschweiz/Romandie',\n",
    "        xaxis=dict(title='Abstimmungen nach zeitlicher Reihenfolge'),\n",
    "        yaxis=dict(title='Delta')\n",
    "    )\n",
    "data = [mean, median, moving_avg]\n",
    "fig = go.Figure(data=data, layout=layout)    \n",
    "py.iplot(fig, filename='delta-median')  "
   ]
  },
  {
   "cell_type": "code",
   "execution_count": 3,
   "metadata": {
    "collapsed": false
   },
   "outputs": [
    {
     "data": {
      "text/html": [
       "<iframe id=\"igraph\" scrolling=\"no\" style=\"border:none;\" seamless=\"seamless\" src=\"https://plot.ly/~Niederb/50.embed\" height=\"525px\" width=\"100%\"></iframe>"
      ],
      "text/plain": [
       "<plotly.tools.PlotlyDisplay object>"
      ]
     },
     "execution_count": 3,
     "metadata": {},
     "output_type": "execute_result"
    }
   ],
   "source": [
    "variance_de = go.Scatter(\n",
    "    x=counter,\n",
    "    y=variance_de,\n",
    "    mode='lines',\n",
    "    connectgaps=True,\n",
    "    name = \"Deutschschweiz\"\n",
    ")\n",
    "variance_fr = go.Scatter(\n",
    "    x=counter,\n",
    "    y=variance_fr,\n",
    "    mode='lines',\n",
    "    connectgaps=True,\n",
    "    name = \"Romandie\"\n",
    ")\n",
    "layout = go.Layout(\n",
    "        title='Entwicklung Varianz Deutschschweiz & Romandie',\n",
    "        xaxis=dict(title='Abstimmungen nach zeitlicher Reihenfolge'),\n",
    "        yaxis=dict(title='Varianz')\n",
    "    )\n",
    "data = [variance_de, variance_fr]\n",
    "fig = go.Figure(data=data, layout=layout)    \n",
    "py.iplot(fig, filename='variance-de-fr')  "
   ]
  },
  {
   "cell_type": "code",
   "execution_count": 4,
   "metadata": {
    "collapsed": false
   },
   "outputs": [
    {
     "data": {
      "text/html": [
       "<iframe id=\"igraph\" scrolling=\"no\" style=\"border:none;\" seamless=\"seamless\" src=\"https://plot.ly/~Niederb/52.embed\" height=\"525px\" width=\"100%\"></iframe>"
      ],
      "text/plain": [
       "<plotly.tools.PlotlyDisplay object>"
      ]
     },
     "execution_count": 4,
     "metadata": {},
     "output_type": "execute_result"
    }
   ],
   "source": [
    "radicality_de_plot = go.Scatter(\n",
    "    x=counter,\n",
    "    y=radicality_de,\n",
    "    mode='lines',\n",
    "    connectgaps=True,\n",
    "    name = \"Deutschschweiz\"\n",
    ")\n",
    "radicality_fr_plot = go.Scatter(\n",
    "    x=counter,\n",
    "    y=radicality_fr,\n",
    "    mode='lines',\n",
    "    connectgaps=True,\n",
    "    name = \"Romandie\"\n",
    ")\n",
    "layout = go.Layout(\n",
    "        title='Entwicklung Radikalität Deutschschweiz & Romandie',\n",
    "        xaxis=dict(title='Abstimmungen nach zeitlicher Reihenfolge'),\n",
    "        yaxis=dict(title='Radikalität')\n",
    "    )\n",
    "data = [radicality_de_plot, radicality_fr_plot]\n",
    "fig = go.Figure(data=data, layout=layout)    \n",
    "py.iplot(fig, filename='radicality-de-fr')  "
   ]
  },
  {
   "cell_type": "code",
   "execution_count": null,
   "metadata": {
    "collapsed": true
   },
   "outputs": [],
   "source": []
  }
 ],
 "metadata": {
  "kernelspec": {
   "display_name": "Python 3",
   "language": "python",
   "name": "python3"
  },
  "language_info": {
   "codemirror_mode": {
    "name": "ipython",
    "version": 3
   },
   "file_extension": ".py",
   "mimetype": "text/x-python",
   "name": "python",
   "nbconvert_exporter": "python",
   "pygments_lexer": "ipython3",
   "version": "3.5.1"
  }
 },
 "nbformat": 4,
 "nbformat_minor": 2
}
