{
 "cells": [
  {
   "cell_type": "code",
   "execution_count": 9,
   "metadata": {
    "collapsed": true
   },
   "outputs": [],
   "source": [
    "import pandas as pd\n",
    "import numpy as np\n",
    "import plotly.plotly as py\n",
    "import plotly.graph_objs as go\n",
    "\n",
    "ja = pd.read_csv(\"https://raw.githubusercontent.com/Niederb/political_science/master/Daten/Ja.csv\", sep=\";\", na_values=[\"...\"])#, encoding=\"ascii\")\n",
    "nein = pd.read_csv(\"https://raw.githubusercontent.com/Niederb/political_science/master/Daten/Nein.csv\", sep=\";\", na_values=[\"...\"])#, encoding=\"ascii\")\n",
    "stimmberechtigte = pd.read_csv(\"https://raw.githubusercontent.com/Niederb/political_science/master/Daten/Stimmberechtigte.csv\", sep=\";\")\n",
    "kantonsnamen = list(ja)[3:]\n",
    "\n",
    "stimmberechtigte = stimmberechtigte.iloc[1:321, 3:]\n",
    "#stimmberechtigte = pd.to_numeric(stimmberechtigte)\n",
    "stimmberechtigte = stimmberechtigte.apply(pd.to_numeric, errors='ignore')\n",
    "stimmberechtigte_2 = np.mean(stimmberechtigte.as_matrix(), 0)\n",
    "result = pd.DataFrame({  'Kanton' : kantonsnamen, \"Stimmberechtigte\" : stimmberechtigte_2 })\n",
    "\n",
    "ja_schweiz = ja[\"Schweiz\"]\n",
    "nein_schweiz = nein[\"Schweiz\"]\n",
    "angenommen = ja_schweiz > nein_schweiz\n",
    "\n",
    "ja_kantone = ja.iloc[:, 3:]\n",
    "ja_kantone = np.nan_to_num(ja_kantone.values)\n",
    "nein_kantone = nein.iloc[:, 3:]\n",
    "nein_kantone = np.nan_to_num(nein_kantone.values)\n",
    "\n",
    "kantone = np.sum(ja_kantone, axis=1) > np.sum(nein_kantone, axis=1)\n",
    "\n",
    "decisions = np.zeros((623, 26))\n",
    "different = np.zeros((623, 26))\n",
    "for i in np.arange(0, 25):\n",
    "    ja_ohne = np.delete(ja_kantone, i, 1)\n",
    "    nein_ohne = np.delete(nein_kantone, i, 1)\n",
    "    decision = np.sum(ja_ohne, axis=1) > np.sum(nein_ohne, axis=1)\n",
    "    decisions[:, i] = decision \n",
    "    different[:, i] = (decision != 1.0 * angenommen.values)\n",
    "\n",
    "\n",
    "influence = np.sum(different, 0)\n",
    "influence_votes = np.sum(different, 1)\n",
    "\n",
    "result[\"Einfluss\"] = influence"
   ]
  },
  {
   "cell_type": "code",
   "execution_count": 10,
   "metadata": {
    "collapsed": false
   },
   "outputs": [
    {
     "data": {
      "text/html": [
       "<iframe id=\"igraph\" scrolling=\"no\" style=\"border:none;\" seamless=\"seamless\" src=\"https://plot.ly/~Niederb/76.embed\" height=\"525px\" width=\"100%\"></iframe>"
      ],
      "text/plain": [
       "<plotly.tools.PlotlyDisplay object>"
      ]
     },
     "execution_count": 10,
     "metadata": {},
     "output_type": "execute_result"
    }
   ],
   "source": [
    "result = result.sort_values(\"Einfluss\")\n",
    "\n",
    "bar_layout=dict(\n",
    "    color='rgb(255, 161, 0)'\n",
    ")\n",
    "    \n",
    "tr = go.Bar(\n",
    "    x=result[\"Kanton\"],\n",
    "    y=result[\"Einfluss\"],\n",
    "    text=\"\",\n",
    "    name=\"\",\n",
    "    marker=bar_layout\n",
    ")\n",
    "\n",
    "layout = go.Layout(\n",
    "        title='Anzahl entschiedene Abstimmungen pro Kanton',\n",
    "        xaxis=dict(title='Kanton'),\n",
    "        yaxis=dict(title='Anzahl entschiedene Abstimmungen'),\n",
    "    )\n",
    "trace = [tr]\n",
    "fig = go.Figure(data=trace, layout=layout)    \n",
    "py.iplot(fig, filename='einfluss-kantone-abstimmung') "
   ]
  },
  {
   "cell_type": "code",
   "execution_count": 11,
   "metadata": {
    "collapsed": false
   },
   "outputs": [
    {
     "data": {
      "text/html": [
       "<iframe id=\"igraph\" scrolling=\"no\" style=\"border:none;\" seamless=\"seamless\" src=\"https://plot.ly/~Niederb/78.embed\" height=\"525px\" width=\"100%\"></iframe>"
      ],
      "text/plain": [
       "<plotly.tools.PlotlyDisplay object>"
      ]
     },
     "execution_count": 11,
     "metadata": {},
     "output_type": "execute_result"
    }
   ],
   "source": [
    "trace = go.Scatter(\n",
    "    x = result[\"Einfluss\"],\n",
    "    y = result[\"Stimmberechtigte\"],\n",
    "    mode = 'markers',\n",
    "    text=result[\"Kanton\"],\n",
    "    marker = dict(\n",
    "        size = 20,\n",
    "        color = 'rgba(255, 161, 0, 1.0)',\n",
    "        line = dict(\n",
    "            width = 2,\n",
    "            )\n",
    "        ),\n",
    ")\n",
    "layout = go.Layout(\n",
    "    hovermode = 'closest',\n",
    "    title='Entschiedene Abstimmungen vs Anzahl Stimmberechtigte',\n",
    "    xaxis=dict(title='Anzahl entschiedene Abstimmungen'),\n",
    "    yaxis=dict(title='Anzahl Stimmberechtigte (Durchschnitt)')\n",
    "    )\n",
    "data = [trace] \n",
    "fig = go.Figure(data=data, layout=layout)\n",
    "py.iplot(fig, filename='influence-size')"
   ]
  },
  {
   "cell_type": "code",
   "execution_count": null,
   "metadata": {
    "collapsed": true
   },
   "outputs": [],
   "source": []
  }
 ],
 "metadata": {
  "kernelspec": {
   "display_name": "Python 3",
   "language": "python",
   "name": "python3"
  },
  "language_info": {
   "codemirror_mode": {
    "name": "ipython",
    "version": 3
   },
   "file_extension": ".py",
   "mimetype": "text/x-python",
   "name": "python",
   "nbconvert_exporter": "python",
   "pygments_lexer": "ipython3",
   "version": "3.5.1"
  }
 },
 "nbformat": 4,
 "nbformat_minor": 2
}
