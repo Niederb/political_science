{
 "cells": [
  {
   "cell_type": "code",
   "execution_count": 1,
   "metadata": {
    "collapsed": false
   },
   "outputs": [
    {
     "name": "stdout",
     "output_type": "stream",
     "text": [
      "  Kanton  Anteil Personen  Anteil Vermögen  Durchschnittsvermögen  \\\n",
      "0     CH         0.257175        29.100864              36.625292   \n",
      "\n",
      "   Kein Vermögen  \n",
      "0      25.027207  \n"
     ]
    },
    {
     "data": {
      "text/html": [
       "<iframe id=\"igraph\" scrolling=\"no\" style=\"border:none;\" seamless=\"seamless\" src=\"https://plot.ly/~Niederb/66.embed\" height=\"525px\" width=\"100%\"></iframe>"
      ],
      "text/plain": [
       "<plotly.tools.PlotlyDisplay object>"
      ]
     },
     "execution_count": 1,
     "metadata": {},
     "output_type": "execute_result"
    }
   ],
   "source": [
    "import pandas as pd\n",
    "import numpy as np\n",
    "import plotly.plotly as py\n",
    "import plotly.graph_objs as go\n",
    "\n",
    "wealth = pd.read_csv('https://raw.githubusercontent.com/democratia/political_science/master/Daten/vermoegensverteilung.csv', sep=\",\")\n",
    "print(wealth[0:1])\n",
    "wealth = wealth.sort_values(\"Anteil Vermögen\")\n",
    "\n",
    "bar_layout=dict(\n",
    "    color='rgb(255, 161, 0)'\n",
    ")\n",
    "    \n",
    "tr = go.Bar(\n",
    "    x=wealth[\"Kanton\"],\n",
    "    y=wealth[\"Anteil Vermögen\"],\n",
    "    text=\"\",\n",
    "    name=\"\",\n",
    "    marker=bar_layout\n",
    ")\n",
    "\n",
    "layout = go.Layout(\n",
    "        title='Anteil der Superreichen am Gesamtvermögen',\n",
    "        xaxis=dict(title='Kanton'),\n",
    "        yaxis=dict(title='Anteil am Gesamtvermögen (in Prozent)'),\n",
    "    )\n",
    "trace = [tr]\n",
    "fig = go.Figure(data=trace, layout=layout)    \n",
    "py.iplot(fig, filename='anteil-vermoegen') \n"
   ]
  },
  {
   "cell_type": "code",
   "execution_count": 22,
   "metadata": {
    "collapsed": false
   },
   "outputs": [
    {
     "data": {
      "text/html": [
       "<iframe id=\"igraph\" scrolling=\"no\" style=\"border:none;\" seamless=\"seamless\" src=\"https://plot.ly/~Niederb/68.embed\" height=\"525px\" width=\"100%\"></iframe>"
      ],
      "text/plain": [
       "<plotly.tools.PlotlyDisplay object>"
      ]
     },
     "execution_count": 22,
     "metadata": {},
     "output_type": "execute_result"
    }
   ],
   "source": [
    "wealth = wealth.sort_values(\"Durchschnittsvermögen\")\n",
    "tr = go.Bar(\n",
    "    x=wealth[\"Kanton\"],\n",
    "    y=wealth[\"Durchschnittsvermögen\"],\n",
    "    text=\"\",\n",
    "    name=\"\",\n",
    "    marker=bar_layout\n",
    ")\n",
    "\n",
    "layout = go.Layout(\n",
    "        title='Durchschnittsvermögen der Superreichen',\n",
    "        xaxis=dict(title='Kanton'),\n",
    "        yaxis=dict(title='Durchschnittsvermögen (in Millionen)'),\n",
    "    )\n",
    "trace = [tr]\n",
    "fig = go.Figure(data=trace, layout=layout)    \n",
    "py.iplot(fig, filename='durchschnitt-vermoegen') "
   ]
  },
  {
   "cell_type": "code",
   "execution_count": 23,
   "metadata": {
    "collapsed": false
   },
   "outputs": [
    {
     "data": {
      "text/html": [
       "<iframe id=\"igraph\" scrolling=\"no\" style=\"border:none;\" seamless=\"seamless\" src=\"https://plot.ly/~Niederb/70.embed\" height=\"525px\" width=\"100%\"></iframe>"
      ],
      "text/plain": [
       "<plotly.tools.PlotlyDisplay object>"
      ]
     },
     "execution_count": 23,
     "metadata": {},
     "output_type": "execute_result"
    }
   ],
   "source": [
    "wealth = wealth.sort_values(\"Anteil Personen\")\n",
    "tr = go.Bar(\n",
    "    x=wealth[\"Kanton\"],\n",
    "    y=wealth[\"Anteil Personen\"],\n",
    "    text=\"\",\n",
    "    name=\"\",\n",
    "    marker=bar_layout\n",
    ")\n",
    "\n",
    "layout = go.Layout(\n",
    "        title='Anteil der Superreichen an der Gesamtbevölkerung',\n",
    "        xaxis=dict(title='Kanton'),\n",
    "        yaxis=dict(title='Anteil (in Prozent)'),\n",
    "    )\n",
    "trace = [tr]\n",
    "fig = go.Figure(data=trace, layout=layout)    \n",
    "py.iplot(fig, filename='superreiche-bevoelkerung') "
   ]
  },
  {
   "cell_type": "code",
   "execution_count": 2,
   "metadata": {
    "collapsed": false
   },
   "outputs": [
    {
     "data": {
      "text/html": [
       "<iframe id=\"igraph\" scrolling=\"no\" style=\"border:none;\" seamless=\"seamless\" src=\"https://plot.ly/~Niederb/72.embed\" height=\"525px\" width=\"100%\"></iframe>"
      ],
      "text/plain": [
       "<plotly.tools.PlotlyDisplay object>"
      ]
     },
     "execution_count": 2,
     "metadata": {},
     "output_type": "execute_result"
    }
   ],
   "source": [
    "wealth = wealth.sort_values(\"Kein Vermögen\")\n",
    "tr = go.Bar(\n",
    "    x=wealth[\"Kanton\"],\n",
    "    y=wealth[\"Kein Vermögen\"],\n",
    "    text=\"\",\n",
    "    name=\"\",\n",
    "    marker=bar_layout\n",
    ")\n",
    "\n",
    "layout = go.Layout(\n",
    "        title='Anteil der Bevölkerung ohne Vermögen',\n",
    "        xaxis=dict(title='Kanton'),\n",
    "        yaxis=dict(title='Anteil (in Prozent)'),\n",
    "    )\n",
    "trace = [tr]\n",
    "fig = go.Figure(data=trace, layout=layout)    \n",
    "py.iplot(fig, filename='bevoelkerung-ohne-vermoegen') "
   ]
  },
  {
   "cell_type": "code",
   "execution_count": 4,
   "metadata": {
    "collapsed": false
   },
   "outputs": [
    {
     "data": {
      "text/html": [
       "<iframe id=\"igraph\" scrolling=\"no\" style=\"border:none;\" seamless=\"seamless\" src=\"https://plot.ly/~Niederb/74.embed\" height=\"525px\" width=\"100%\"></iframe>"
      ],
      "text/plain": [
       "<plotly.tools.PlotlyDisplay object>"
      ]
     },
     "execution_count": 4,
     "metadata": {},
     "output_type": "execute_result"
    }
   ],
   "source": [
    "trace = go.Scatter(\n",
    "    x = wealth[\"Kein Vermögen\"],\n",
    "    y = wealth[\"Anteil Personen\"],\n",
    "    mode = 'markers',\n",
    "    #text=kantonsnamen,\n",
    "    marker = dict(\n",
    "        size = 20,\n",
    "        color = 'rgba(255, 161, 0, 1.0)',\n",
    "        line = dict(\n",
    "            width = 2,\n",
    "            )\n",
    "        ),\n",
    ")\n",
    "layout = go.Layout(\n",
    "    hovermode = 'closest',\n",
    "    title='Ohne Vermögen vs Superreiche',\n",
    "    xaxis=dict(title='Anteil ohne Vermögen (in Prozent)'),\n",
    "    yaxis=dict(title='Anteil Superreiche (in Prozent)')\n",
    "    )\n",
    "data = [trace] \n",
    "fig = go.Figure(data=data, layout=layout)\n",
    "py.iplot(fig, filename='superrich-vs-no-wealth')"
   ]
  },
  {
   "cell_type": "code",
   "execution_count": null,
   "metadata": {
    "collapsed": true
   },
   "outputs": [],
   "source": []
  }
 ],
 "metadata": {
  "kernelspec": {
   "display_name": "Python 3",
   "language": "python",
   "name": "python3"
  },
  "language_info": {
   "codemirror_mode": {
    "name": "ipython",
    "version": 3
   },
   "file_extension": ".py",
   "mimetype": "text/x-python",
   "name": "python",
   "nbconvert_exporter": "python",
   "pygments_lexer": "ipython3",
   "version": "3.5.1"
  }
 },
 "nbformat": 4,
 "nbformat_minor": 2
}
