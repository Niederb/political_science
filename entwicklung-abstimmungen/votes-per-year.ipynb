{
 "cells": [
  {
   "cell_type": "code",
   "execution_count": 37,
   "metadata": {
    "collapsed": false
   },
   "outputs": [
    {
     "name": "stdout",
     "output_type": "stream",
     "text": [
      "5\n"
     ]
    }
   ],
   "source": [
    "import pandas as pd\n",
    "import numpy as np\n",
    "import plotly.plotly as py\n",
    "import plotly.graph_objs as go\n",
    "eligible_votes = pd.read_csv(\"https://raw.githubusercontent.com/democratia/political_science/master/Reconstruct-Jura/Stimmberechtigte.csv\", sep=\";\", na_values=\"...\")\n",
    "eligible_votes['Datum'], eligible_votes['Vorlage'] = eligible_votes['Datum und Vorlage'].str.split(' ', 1).str\n",
    "eligible_votes['Datum'] = pd.to_datetime(eligible_votes['Datum'], infer_datetime_format=True)\n",
    "\n",
    "classification = pd.read_csv('https://raw.githubusercontent.com/democratia/political_science/master/Daten/swissvotes-integralerdatensatz.csv', sep=\";\")\n",
    "classification = classification.drop(classification.index[[0,624, 625, 626]]) #remove rows where we do not have results\n",
    "rechtsform = classification['rechtsform'].as_matrix()\n",
    "rechtsform = rechtsform[::-1]\n",
    "eligible_votes['rechtsform'] = rechtsform\n",
    "\n",
    "n_types = 5\n",
    "rechtsformen = [\"Alle\", \"Oblig. Referendum\", \"Fak. Referendum\", \"Initiative\", \"Gegenvorschlag\"]\n",
    "traces = []\n",
    "buttons = []\n",
    "for code, rechtsform in zip(np.arange(0, n_types), rechtsformen):\n",
    "    if (code > 0):\n",
    "        specific_votes = eligible_votes[eligible_votes[\"rechtsform\"] == code]\n",
    "    else:\n",
    "        specific_votes = eligible_votes\n",
    "    votes_per_year = specific_votes['Datum'].groupby([specific_votes.Datum.dt.year]).agg('count')\n",
    "\n",
    "    all_years = dict(zip(votes_per_year.index, votes_per_year))\n",
    "    for i in np.arange(1866, 2017, 1):\n",
    "        if i not in all_years:\n",
    "            all_years[i] = 0\n",
    "    vis = False\n",
    "    if code == 0:\n",
    "        vis = True\n",
    "    traces.append(go.Bar(\n",
    "        x=list(all_years.keys()),\n",
    "        y=list(all_years.values()),\n",
    "        visible=vis,\n",
    "        text=\"\",\n",
    "        name=\"\"\n",
    "    ))\n",
    "    visible_list = [False]*n_types\n",
    "    visible_list[code] = True    \n",
    "    buttons.append(\n",
    "        dict(\n",
    "            args=['visible', visible_list],\n",
    "            label=rechtsform,\n",
    "            method='restyle'\n",
    "        ))\n",
    "\n",
    "print(len(traces))"
   ]
  },
  {
   "cell_type": "code",
   "execution_count": 38,
   "metadata": {
    "collapsed": false
   },
   "outputs": [
    {
     "data": {
      "text/html": [
       "<iframe id=\"igraph\" scrolling=\"no\" style=\"border:none;\" seamless=\"seamless\" src=\"https://plot.ly/~Niederb/64.embed\" height=\"525px\" width=\"100%\"></iframe>"
      ],
      "text/plain": [
       "<plotly.tools.PlotlyDisplay object>"
      ]
     },
     "execution_count": 38,
     "metadata": {},
     "output_type": "execute_result"
    }
   ],
   "source": [
    "layout = go.Layout(\n",
    "        title='Entwicklung der Anzahl Abstimmungen pro Jahr',\n",
    "        xaxis=dict(title='Jahr'),\n",
    "        yaxis=dict(title='Anzahl Abstimmungen'),\n",
    "        updatemenus=list([\n",
    "            dict(\n",
    "                active=0,\n",
    "                x=-0.05,\n",
    "                y=1,\n",
    "                yanchor='top',\n",
    "                buttons=buttons\n",
    "            )\n",
    "        ])\n",
    "    )\n",
    "fig = go.Figure(data=traces, layout=layout)    \n",
    "py.iplot(fig, filename='anzahl-abstimmungen') "
   ]
  },
  {
   "cell_type": "code",
   "execution_count": null,
   "metadata": {
    "collapsed": true
   },
   "outputs": [],
   "source": []
  }
 ],
 "metadata": {
  "kernelspec": {
   "display_name": "Python 3",
   "language": "python",
   "name": "python3"
  },
  "language_info": {
   "codemirror_mode": {
    "name": "ipython",
    "version": 3
   },
   "file_extension": ".py",
   "mimetype": "text/x-python",
   "name": "python",
   "nbconvert_exporter": "python",
   "pygments_lexer": "ipython3",
   "version": "3.5.1"
  }
 },
 "nbformat": 4,
 "nbformat_minor": 2
}
