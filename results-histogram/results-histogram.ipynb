{
 "cells": [
  {
   "cell_type": "code",
   "execution_count": 1,
   "metadata": {
    "collapsed": false
   },
   "outputs": [],
   "source": [
    "import plotly.plotly as py\n",
    "import plotly.graph_objs as go\n",
    "import pandas as pd\n",
    "\n",
    "import numpy as np\n",
    "\n",
    "importdata = pd.read_csv('https://raw.githubusercontent.com/democratia/political_science/master/Daten/ja-prozent.csv', sep=\";\")\n",
    "\n"
   ]
  },
  {
   "cell_type": "code",
   "execution_count": 14,
   "metadata": {
    "collapsed": false
   },
   "outputs": [
    {
     "data": {
      "text/html": [
       "<iframe id=\"igraph\" scrolling=\"no\" style=\"border:none;\" seamless=\"seamless\" src=\"https://plot.ly/~Niederb/62.embed\" height=\"525px\" width=\"100%\"></iframe>"
      ],
      "text/plain": [
       "<plotly.tools.PlotlyDisplay object>"
      ]
     },
     "execution_count": 14,
     "metadata": {},
     "output_type": "execute_result"
    }
   ],
   "source": [
    "hist_data = {}\n",
    "kantonsnamen = list(importdata)[2:]\n",
    "n_histograms = len(kantonsnamen)\n",
    "traces = []\n",
    "buttons = []\n",
    "for i, c in zip(range(n_histograms), kantonsnamen):\n",
    "    vis = False\n",
    "    if i == 0:\n",
    "        vis = True\n",
    "    traces.append(go.Histogram(\n",
    "        x=importdata[c].values,\n",
    "        opacity=0.75,\n",
    "        autobinx=False,\n",
    "        xbins=dict(\n",
    "            start=0,\n",
    "            end=100,\n",
    "            size=5\n",
    "        ),\n",
    "        text=\"\",\n",
    "        name=\"\",\n",
    "        visible=vis\n",
    "    ))\n",
    "    visible_list = [False]*27\n",
    "    visible_list[i] = True\n",
    "    buttons.append(\n",
    "        dict(\n",
    "            args=['visible', visible_list],\n",
    "            label=c,\n",
    "            method='restyle'\n",
    "        ))\n",
    "data = traces\n",
    "layout = go.Layout(barmode='overlay',\n",
    "    updatemenus=list([\n",
    "        dict(\n",
    "            active=0,\n",
    "            x=-0.05,\n",
    "            y=1,\n",
    "            yanchor='top',\n",
    "            buttons=buttons\n",
    "        )\n",
    "    ]),\n",
    "    title='Histogramm Anzahl Abstimmungen nach Prozent Ja Stimmen',\n",
    "    xaxis=dict(title='Prozent Ja Stimmen'),\n",
    "    yaxis=dict(title='Anzahl Abstimmungsresultate')\n",
    ")\n",
    "fig = go.Figure(data=data, layout=layout)\n",
    "\n",
    "py.iplot(fig, filename='results-histogram')"
   ]
  },
  {
   "cell_type": "code",
   "execution_count": null,
   "metadata": {
    "collapsed": true
   },
   "outputs": [],
   "source": []
  }
 ],
 "metadata": {
  "kernelspec": {
   "display_name": "Python 3",
   "language": "python",
   "name": "python3"
  },
  "language_info": {
   "codemirror_mode": {
    "name": "ipython",
    "version": 3
   },
   "file_extension": ".py",
   "mimetype": "text/x-python",
   "name": "python",
   "nbconvert_exporter": "python",
   "pygments_lexer": "ipython3",
   "version": "3.5.1"
  }
 },
 "nbformat": 4,
 "nbformat_minor": 2
}
