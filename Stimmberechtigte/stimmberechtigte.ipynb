{
 "cells": [
  {
   "cell_type": "code",
   "execution_count": 14,
   "metadata": {
    "collapsed": false,
    "scrolled": true
   },
   "outputs": [
    {
     "data": {
      "text/html": [
       "<iframe id=\"igraph\" scrolling=\"no\" style=\"border:none;\" seamless=\"seamless\" src=\"https://plot.ly/~Niederb/34.embed\" height=\"525px\" width=\"100%\"></iframe>"
      ],
      "text/plain": [
       "<plotly.tools.PlotlyDisplay object>"
      ]
     },
     "execution_count": 14,
     "metadata": {},
     "output_type": "execute_result"
    }
   ],
   "source": [
    "import pandas as pd\n",
    "import numpy as np\n",
    "import plotly.plotly as py\n",
    "import plotly.graph_objs as go\n",
    "\n",
    "from sklearn.ensemble import *\n",
    "from sklearn.cross_validation import train_test_split\n",
    "\n",
    "eligible_votes = pd.read_csv(\"https://raw.githubusercontent.com/democratia/political_science/master/Reconstruct-Jura/Stimmberechtigte.csv\", sep=\";\", na_values=\"...\")\n",
    "eligible_votes['Datum'], eligible_votes['Vorlage'] = eligible_votes['Datum und Vorlage'].str.split(' ', 1).str\n",
    "kantonsnamen = list(eligible_votes)[3:-3]\n",
    "\n",
    "eligible_votes['Datum'] = pd.to_datetime(eligible_votes['Datum'], infer_datetime_format=True)\n",
    "eligible_per_year = eligible_votes.groupby(eligible_votes.Datum.dt.year).median()\n",
    "eligible_cantons = eligible_per_year[list(eligible_per_year.columns[1:-1])] \n",
    "years = eligible_cantons.index.values[11:]\n",
    "eligible_cantons_mat = eligible_cantons.as_matrix()\n",
    "eligible_cantons_mat = eligible_cantons_mat[:][11:]\n",
    "\n",
    "traces = []\n",
    "for i in range(0, 24):\n",
    "    traces.append(go.Scatter(\n",
    "        x=years,\n",
    "        y=eligible_cantons_mat[:, i],\n",
    "        mode='lines',\n",
    "        connectgaps=True,\n",
    "        name = kantonsnamen[i]\n",
    "    ))\n",
    "layout = go.Layout(\n",
    "        title='Stimmberechtigte pro Kanton',\n",
    "        xaxis=dict(title='Jahr'),\n",
    "        yaxis=dict(title='Stimmberechtigte')\n",
    "    )\n",
    "fig = go.Figure(data=traces, layout=layout)    \n",
    "py.iplot(fig, filename='stimmberechtigte')    "
   ]
  },
  {
   "cell_type": "code",
   "execution_count": null,
   "metadata": {
    "collapsed": true
   },
   "outputs": [],
   "source": []
  },
  {
   "cell_type": "code",
   "execution_count": null,
   "metadata": {
    "collapsed": true
   },
   "outputs": [],
   "source": []
  }
 ],
 "metadata": {
  "kernelspec": {
   "display_name": "Python 3",
   "language": "python",
   "name": "python3"
  },
  "language_info": {
   "codemirror_mode": {
    "name": "ipython",
    "version": 3
   },
   "file_extension": ".py",
   "mimetype": "text/x-python",
   "name": "python",
   "nbconvert_exporter": "python",
   "pygments_lexer": "ipython3",
   "version": "3.5.1"
  }
 },
 "nbformat": 4,
 "nbformat_minor": 2
}
