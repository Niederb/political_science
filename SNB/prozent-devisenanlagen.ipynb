{
 "cells": [
  {
   "cell_type": "code",
   "execution_count": 17,
   "metadata": {
    "collapsed": false
   },
   "outputs": [
    {
     "name": "stdout",
     "output_type": "stream",
     "text": [
      "['USD', 'EUR', 'JPY', 'GBP', 'CAD', 'übrige']\n"
     ]
    },
    {
     "data": {
      "text/html": [
       "<iframe id=\"igraph\" scrolling=\"no\" style=\"border:none;\" seamless=\"seamless\" src=\"https://plot.ly/~Niederb/80.embed\" height=\"525px\" width=\"100%\"></iframe>"
      ],
      "text/plain": [
       "<plotly.tools.PlotlyDisplay object>"
      ]
     },
     "execution_count": 17,
     "metadata": {},
     "output_type": "execute_result"
    }
   ],
   "source": [
    "import pandas as pd\n",
    "import numpy as np\n",
    "import plotly.plotly as py\n",
    "import plotly.graph_objs as go\n",
    "\n",
    "currencies = pd.read_csv(\"https://raw.githubusercontent.com/democratia/political_science/master/Daten/devisenanlagen-prozent-snb.csv\", sep=\",\")\n",
    "\n",
    "columns = list(currencies)[1:-1]\n",
    "print(columns)\n",
    "N = len(columns)\n",
    "quartal = currencies[\"Quartal\"]\n",
    "\n",
    "traces = []\n",
    "curr_sum = np.zeros((1, len(quartal)))\n",
    "for i, curr in zip(range(0, N), columns):\n",
    "    curr_sum = curr_sum + currencies[curr].values\n",
    "    traces.append(go.Scatter(\n",
    "        x=quartal,\n",
    "        y=curr_sum.T,\n",
    "        mode='lines',\n",
    "        connectgaps=True,\n",
    "        name = curr,\n",
    "        fill='tonexty',\n",
    "        text=np.round(currencies[curr].values, 2),\n",
    "        hoverinfo='x+text',\n",
    "    ))\n",
    "layout = go.Layout(\n",
    "        title='Devisenanlagen der SNB',\n",
    "        xaxis=dict(title='Quartal'),\n",
    "        yaxis=dict(title='Anteil in %')\n",
    "    )\n",
    "fig = go.Figure(data=traces, layout=layout)    \n",
    "py.iplot(fig, filename='devisen-prozent-snb')   "
   ]
  },
  {
   "cell_type": "code",
   "execution_count": null,
   "metadata": {
    "collapsed": true
   },
   "outputs": [],
   "source": []
  }
 ],
 "metadata": {
  "kernelspec": {
   "display_name": "Python 3",
   "language": "python",
   "name": "python3"
  },
  "language_info": {
   "codemirror_mode": {
    "name": "ipython",
    "version": 3
   },
   "file_extension": ".py",
   "mimetype": "text/x-python",
   "name": "python",
   "nbconvert_exporter": "python",
   "pygments_lexer": "ipython3",
   "version": "3.5.1"
  }
 },
 "nbformat": 4,
 "nbformat_minor": 2
}
