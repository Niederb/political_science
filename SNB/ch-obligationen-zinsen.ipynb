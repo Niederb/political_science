{
 "cells": [
  {
   "cell_type": "code",
   "execution_count": 14,
   "metadata": {
    "collapsed": false
   },
   "outputs": [
    {
     "name": "stdout",
     "output_type": "stream",
     "text": [
      "['1 Jahr', '2 Jahre', '3 Jahre', '4 Jahre', '5 Jahre', '6 Jahre', '7 Jahre', '8 Jahre', '9 Jahre', '10 Jahre', '20 Jahre', '30 Jahre']\n"
     ]
    }
   ],
   "source": [
    "import pandas as pd\n",
    "import numpy as np\n",
    "import plotly.plotly as py\n",
    "import plotly.graph_objs as go\n",
    "\n",
    "df = pd.read_csv(\"https://raw.githubusercontent.com/democratia/political_science/master/Daten/ch-obligationen-zins.csv\", sep=\",\")\n",
    "zeitraum = list(df)[1:]\n",
    "print(zeitraum)"
   ]
  },
  {
   "cell_type": "code",
   "execution_count": 15,
   "metadata": {
    "collapsed": false
   },
   "outputs": [
    {
     "name": "stdout",
     "output_type": "stream",
     "text": [
      "1 Jahr\n",
      "2 Jahre\n",
      "3 Jahre\n",
      "4 Jahre\n",
      "5 Jahre\n",
      "6 Jahre\n",
      "7 Jahre\n",
      "8 Jahre\n",
      "9 Jahre\n",
      "10 Jahre\n",
      "20 Jahre\n",
      "30 Jahre\n"
     ]
    },
    {
     "data": {
      "text/html": [
       "<iframe id=\"igraph\" scrolling=\"no\" style=\"border:none;\" seamless=\"seamless\" src=\"https://plot.ly/~Niederb/84.embed\" height=\"525px\" width=\"100%\"></iframe>"
      ],
      "text/plain": [
       "<plotly.tools.PlotlyDisplay object>"
      ]
     },
     "execution_count": 15,
     "metadata": {},
     "output_type": "execute_result"
    }
   ],
   "source": [
    "traces = []\n",
    "for i in zeitraum:\n",
    "    print(i)\n",
    "    traces.append(go.Scatter(\n",
    "        x=df[\"Monat\"],\n",
    "        y=df[i],\n",
    "        mode='lines',\n",
    "        connectgaps=True,\n",
    "        name=i\n",
    "    ))\n",
    "layout = go.Layout(\n",
    "        title='Entwicklung Zinsen für Obligationen der Eidgenossenschaft',\n",
    "        xaxis=dict(title='Monat'),\n",
    "        yaxis=dict(title='Zins')\n",
    "    )\n",
    "fig = go.Figure(data=traces, layout=layout)    \n",
    "py.iplot(fig, filename='ch-obligation-zinsen')  "
   ]
  },
  {
   "cell_type": "code",
   "execution_count": null,
   "metadata": {
    "collapsed": true
   },
   "outputs": [],
   "source": []
  }
 ],
 "metadata": {
  "kernelspec": {
   "display_name": "Python 3",
   "language": "python",
   "name": "python3"
  },
  "language_info": {
   "codemirror_mode": {
    "name": "ipython",
    "version": 3
   },
   "file_extension": ".py",
   "mimetype": "text/x-python",
   "name": "python",
   "nbconvert_exporter": "python",
   "pygments_lexer": "ipython3",
   "version": "3.5.1"
  }
 },
 "nbformat": 4,
 "nbformat_minor": 2
}
