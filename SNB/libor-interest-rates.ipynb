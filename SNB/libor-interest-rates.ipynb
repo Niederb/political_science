{
 "cells": [
  {
   "cell_type": "code",
   "execution_count": 3,
   "metadata": {
    "collapsed": false
   },
   "outputs": [
    {
     "name": "stdout",
     "output_type": "stream",
     "text": [
      "['CHF', 'USD', 'JPY', 'GBP', 'EUR']\n"
     ]
    }
   ],
   "source": [
    "import pandas as pd\n",
    "import numpy as np\n",
    "import plotly.plotly as py\n",
    "import plotly.graph_objs as go\n",
    "\n",
    "df = pd.read_csv(\"https://raw.githubusercontent.com/democratia/political_science/master/Daten/libor-zinsen.csv\", sep=\",\")\n",
    "currencies = list(df)[1:]\n",
    "print(currencies)"
   ]
  },
  {
   "cell_type": "code",
   "execution_count": 5,
   "metadata": {
    "collapsed": false
   },
   "outputs": [
    {
     "name": "stdout",
     "output_type": "stream",
     "text": [
      "CHF\n",
      "USD\n",
      "JPY\n",
      "GBP\n",
      "EUR\n"
     ]
    },
    {
     "data": {
      "text/html": [
       "<iframe id=\"igraph\" scrolling=\"no\" style=\"border:none;\" seamless=\"seamless\" src=\"https://plot.ly/~Niederb/89.embed\" height=\"525px\" width=\"100%\"></iframe>"
      ],
      "text/plain": [
       "<plotly.tools.PlotlyDisplay object>"
      ]
     },
     "execution_count": 5,
     "metadata": {},
     "output_type": "execute_result"
    }
   ],
   "source": [
    "traces = []\n",
    "for i in currencies:\n",
    "    print(i)\n",
    "    traces.append(go.Scatter(\n",
    "        x=df[\"Monat\"],\n",
    "        y=df[i],\n",
    "        mode='lines',\n",
    "        connectgaps=True,\n",
    "        name=i\n",
    "    ))\n",
    "layout = go.Layout(\n",
    "        title='Libor interest rate for different currencies',\n",
    "        xaxis=dict(title='Month'),\n",
    "        yaxis=dict(title='Interest rate')\n",
    "    )\n",
    "fig = go.Figure(data=traces, layout=layout)    \n",
    "py.iplot(fig, filename='libor-interest-rate')  "
   ]
  },
  {
   "cell_type": "code",
   "execution_count": null,
   "metadata": {
    "collapsed": true
   },
   "outputs": [],
   "source": []
  }
 ],
 "metadata": {
  "kernelspec": {
   "display_name": "Python 3",
   "language": "python",
   "name": "python3"
  },
  "language_info": {
   "codemirror_mode": {
    "name": "ipython",
    "version": 3
   },
   "file_extension": ".py",
   "mimetype": "text/x-python",
   "name": "python",
   "nbconvert_exporter": "python",
   "pygments_lexer": "ipython3",
   "version": "3.5.1"
  }
 },
 "nbformat": 4,
 "nbformat_minor": 2
}
