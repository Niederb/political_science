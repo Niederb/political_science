{
 "metadata": {
  "language_info": {
   "codemirror_mode": {
    "name": "ipython",
    "version": 3
   },
   "file_extension": ".py",
   "mimetype": "text/x-python",
   "name": "python",
   "nbconvert_exporter": "python",
   "pygments_lexer": "ipython3",
   "version": "3.8.6-final"
  },
  "orig_nbformat": 2,
  "kernelspec": {
   "name": "python3",
   "display_name": "Python 3",
   "language": "python"
  }
 },
 "nbformat": 4,
 "nbformat_minor": 2,
 "cells": [
  {
   "cell_type": "code",
   "execution_count": 2,
   "metadata": {},
   "outputs": [
    {
     "output_type": "stream",
     "name": "stdout",
     "text": [
      "Number of invalid staende results: 0\n"
     ]
    }
   ],
   "source": [
    "import pandas as pd\n",
    "\n",
    "df = pd.read_csv(\"./swissvotes-dataset.csv\", delimiter=\";\", na_values=\".\")\n",
    "# Exclude data from votes with missing values (very first and of the last)\n",
    "df = df.iloc[1:-12, :]\n",
    "# Extract some data rows for comparison and verification\n",
    "volk = df[\"volk\"].iloc[:]\n",
    "stand = df[\"stand\"].iloc[:]\n",
    "kt_ja = df[\"kt-ja\"].iloc[:]\n",
    "kt_nein = df[\"kt-nein\"].iloc[:]\n",
    "ktjaproz = df[\"ktjaproz\"].iloc[:]\n",
    "\n",
    "staende = kt_ja + kt_nein\n",
    "invalid_results = (staende > 23).sum() + (staende < 22).sum()\n",
    "print(\"Number of invalid staende results: {}\".format(invalid_results))"
   ]
  },
  {
   "cell_type": "code",
   "execution_count": 3,
   "metadata": {},
   "outputs": [
    {
     "output_type": "stream",
     "name": "stdout",
     "text": [
      "Check calculation of volk: 0\nTotal absolute sum of deltas for ktjaproz: 1.058142292489796\nTotal absolute sum of deltas for volkja-proz: 1.5598724290052153\nTotal absolute sum of deltas for bet: 1.53731533820525\nNumber of invalid berecht: 0\nTotal absolute sum of deltas for stimmen: 55086.0\nTotal absolute sum of deltas for gultig: 1638038.0\n"
     ]
    },
    {
     "output_type": "execute_result",
     "data": {
      "text/plain": [
       "27"
      ]
     },
     "metadata": {},
     "execution_count": 3
    }
   ],
   "source": [
    "#(df[\"volk\"] == df[\"volkja-proz\"] > 50.0).sum()\n",
    "volk_wrong = (df[\"volk\"] != (df[\"volkja-proz\"] > 50.0)).sum()\n",
    "print(\"Check calculation of volk: {}\".format(volk_wrong))\n",
    "delta_ktjaproz = (df[\"ktjaproz\"] - (100.0 * df[\"kt-ja\"] / staende)).abs().sum()\n",
    "print(\"Total absolute sum of deltas for ktjaproz: {}\".format(delta_ktjaproz))\n",
    "\n",
    "delta_volkja_proz = (df[\"volkja-proz\"] - (100.0 * df[\"volkja\"] / df[\"gultig\"])).abs().sum()\n",
    "print(\"Total absolute sum of deltas for volkja-proz: {}\".format(delta_volkja_proz))\n",
    "\n",
    "delta_bet = (df[\"bet\"] - (100.0 * df[\"stimmen\"] / df[\"berecht\"])).abs().sum()\n",
    "print(\"Total absolute sum of deltas for bet: {}\".format(delta_bet))\n",
    "\n",
    "invalid_berecht = (df[\"berecht\"] < df[\"stimmen\"]).sum()\n",
    "print(\"Number of invalid berecht: {}\".format(invalid_berecht))\n",
    "\n",
    "delta_stimmen = (df[\"stimmen\"] - df[\"leer\"] - df[\"ungultig\"] - df[\"gultig\"]).abs().sum()\n",
    "print(\"Total absolute sum of deltas for stimmen: {}\".format(delta_stimmen))\n",
    "\n",
    "delta_gultig = (df[\"gultig\"] - df[\"volkja\"] - df[\"volknein\"]).abs().sum()\n",
    "print(\"Total absolute sum of deltas for gultig: {}\".format(delta_gultig))\n",
    "(df[\"gultig\"] - df[\"volkja\"] - df[\"volknein\"] > 0).sum()"
   ]
  },
  {
   "cell_type": "code",
   "execution_count": null,
   "metadata": {},
   "outputs": [],
   "source": []
  }
 ]
}