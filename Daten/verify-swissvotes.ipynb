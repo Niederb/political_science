{
 "metadata": {
  "language_info": {
   "codemirror_mode": {
    "name": "ipython",
    "version": 3
   },
   "file_extension": ".py",
   "mimetype": "text/x-python",
   "name": "python",
   "nbconvert_exporter": "python",
   "pygments_lexer": "ipython3",
   "version": "3.8.6-final"
  },
  "orig_nbformat": 2,
  "kernelspec": {
   "name": "python3",
   "display_name": "Python 3.8.6 64-bit",
   "metadata": {
    "interpreter": {
     "hash": "31f2aee4e71d21fbe5cf8b01ff0e069b9275f58929596ceb00d14d90e3e16cd6"
    }
   }
  }
 },
 "nbformat": 4,
 "nbformat_minor": 2,
 "cells": [
  {
   "cell_type": "code",
   "execution_count": 16,
   "metadata": {},
   "outputs": [
    {
     "output_type": "stream",
     "name": "stdout",
     "text": [
      "Number of invalid staende results: 0\n"
     ]
    }
   ],
   "source": [
    "import pandas as pd\n",
    "\n",
    "df = pd.read_csv(\"./swissvotes-dataset.csv\", delimiter=\";\", na_values=\".\")\n",
    "# Exclude data from votes with missing values (very first and of the last)\n",
    "df = df.iloc[1:-12, :]\n",
    "# Extract some data rows for comparison and verification\n",
    "volk = df[\"volk\"].iloc[:]\n",
    "stand = df[\"stand\"].iloc[:]\n",
    "kt_ja = df[\"kt-ja\"].iloc[:]\n",
    "kt_nein = df[\"kt-nein\"].iloc[:]\n",
    "ktjaproz = df[\"ktjaproz\"].iloc[:]\n",
    "\n",
    "staende = kt_ja + kt_nein\n",
    "invalid_results = (staende > 23).sum() + (staende < 22).sum()\n",
    "print(\"Number of invalid staende results: {}\".format(invalid_results))"
   ]
  },
  {
   "cell_type": "code",
   "execution_count": 17,
   "metadata": {},
   "outputs": [
    {
     "output_type": "stream",
     "name": "stdout",
     "text": [
      "Check calculation of volk: 0\nTotal absolute sum of deltas for ktjaproz: 1.0515810276676572\nTotal absolute sum of deltas for volkja-proz: 1.5598724290052153\nTotal absolute sum of deltas for bet: 1.53731533820525\nNumber of invalid berecht: 0\nTotal absolute sum of deltas for stimmen: 55086.0\nNumber of discrepancies in stimmen: 58\nTotal absolute sum of deltas for gultig: 1638038.0\nNumber of discrepancies in gultig: 28\n"
     ]
    }
   ],
   "source": [
    "volk_wrong = (df[\"volk\"] != (df[\"volkja-proz\"] > 50.0)).sum()\n",
    "print(\"Check calculation of volk: {}\".format(volk_wrong))\n",
    "delta_ktjaproz = (df[\"ktjaproz\"] - (100.0 * df[\"kt-ja\"] / staende)).abs().sum()\n",
    "print(\"Total absolute sum of deltas for ktjaproz: {}\".format(delta_ktjaproz))\n",
    "\n",
    "delta_volkja_proz = (df[\"volkja-proz\"] - (100.0 * df[\"volkja\"] / df[\"gultig\"])).abs().sum()\n",
    "print(\"Total absolute sum of deltas for volkja-proz: {}\".format(delta_volkja_proz))\n",
    "\n",
    "delta_bet = (df[\"bet\"] - (100.0 * df[\"stimmen\"] / df[\"berecht\"])).abs().sum()\n",
    "print(\"Total absolute sum of deltas for bet: {}\".format(delta_bet))\n",
    "\n",
    "invalid_berecht = (df[\"berecht\"] < df[\"stimmen\"]).sum()\n",
    "print(\"Number of invalid berecht: {}\".format(invalid_berecht))\n",
    "\n",
    "delta_stimmen = (df[\"stimmen\"] - df[\"leer\"] - df[\"ungultig\"] - df[\"gultig\"])\n",
    "print(\"Total absolute sum of deltas for stimmen: {}\".format(delta_stimmen.abs().sum()))\n",
    "stimmen_discrepancies = (delta_stimmen != 0).sum()\n",
    "print(\"Number of discrepancies in stimmen: {}\".format(stimmen_discrepancies))\n",
    "\n",
    "delta_gultig = (df[\"gultig\"] - df[\"volkja\"] - df[\"volknein\"])\n",
    "print(\"Total absolute sum of deltas for gultig: {}\".format(delta_gultig.abs().sum()))\n",
    "gultig_discrepancies = (delta_gultig != 0).sum()\n",
    "print(\"Number of discrepancies in gultig: {}\".format(gultig_discrepancies))"
   ]
  },
  {
   "cell_type": "code",
   "execution_count": 18,
   "metadata": {},
   "outputs": [
    {
     "output_type": "stream",
     "name": "stdout",
     "text": [
      "Discrepancies gultig at cantonal level: 900\n"
     ]
    }
   ],
   "source": [
    "#df = df.reset_index(drop=True)\n",
    "c_berecht = df.iloc[:, df.columns.str.endswith(\"-berecht\")]\n",
    "c_stimmen = df.iloc[:, df.columns.str.endswith(\"-stimmen\")]\n",
    "c_stimmen.columns = c_stimmen.columns.str.replace(\"-stimmen\", \"\")\n",
    "c_bet = df.iloc[:, df.columns.str.endswith(\"-bet\")]\n",
    "c_gultig = df.iloc[:, df.columns.str.endswith(\"-gultig\")]\n",
    "c_gultig.columns = c_gultig.columns.str.replace(\"-gultig\", \"\")\n",
    "c_ja = df.iloc[:, df.columns.str.endswith(\"-ja\")]\n",
    "c_ja = c_ja.drop(columns=[\"inserate-ja\", \"kt-ja\"])\n",
    "c_ja.columns = c_ja.columns.str.replace(\"-ja\", \"\")\n",
    "c_nein = df.iloc[:, df.columns.str.endswith(\"-nein\")]\n",
    "c_nein = c_nein.drop(columns=[\"inserate-nein\", \"kt-nein\"])\n",
    "c_nein.columns = c_nein.columns.str.replace(\"-nein\", \"\")\n",
    "c_japroz = df.iloc[:, df.columns.str.endswith(\"-japroz\")]\n",
    "c_japroz.columns = c_japroz.columns.str.replace(\"-japroz\", \"\")\n",
    "c_annahme = df.iloc[:, df.columns.str.endswith(\"-annahme\")]\n",
    "c_annahme.columns = c_annahme.columns.str.replace(\"-annahme\", \"\")\n",
    "\n",
    "c_discrepancies_gultig = (c_gultig - c_ja - c_nein != 0)\n",
    "print(\"Discrepancies gultig at cantonal level: {}\".format(c_discrepancies_gultig.abs().sum().sum()))\n",
    "number_cantons = c_annahme.count(axis=1)\n",
    "c_weight = c_annahme.count(axis=0)\n",
    "c_weight[:] = 1.0\n",
    "c_weight['ar','ai','ow','nw','bl','bs'] = 0.5"
   ]
  },
  {
   "source": [
    "wrong_result = (c_annahme != (c_japroz >= 50.0))\n",
    "import numpy as np\n",
    "coord = np.where(wrong_result)\n",
    "coordinates = [(x,y) for x, y in zip(coord[0], coord[1])]\n",
    "\n",
    "discrepancies_staende = ((c_annahme * c_weight).sum(axis=1) != kt_ja)\n",
    "discrepancies_staende.index[discrepancies_staende == True]\n",
    "stand_accepted = (c_annahme * c_weight).sum(axis=1) > (number_cantons/2)\n",
    "(stand_accepted != stand).sum()"
   ],
   "cell_type": "code",
   "metadata": {},
   "execution_count": 25,
   "outputs": [
    {
     "output_type": "execute_result",
     "data": {
      "text/plain": [
       "198"
      ]
     },
     "metadata": {},
     "execution_count": 25
    }
   ]
  },
  {
   "cell_type": "code",
   "execution_count": 20,
   "metadata": {},
   "outputs": [
    {
     "output_type": "execute_result",
     "data": {
      "text/plain": [
       "0.0"
      ]
     },
     "metadata": {},
     "execution_count": 20
    }
   ],
   "source": [
    "(number_cantons - staende - 3.0).sum()"
   ]
  },
  {
   "cell_type": "code",
   "execution_count": null,
   "metadata": {},
   "outputs": [],
   "source": []
  }
 ]
}