{
 "cells": [
  {
   "cell_type": "code",
   "execution_count": 2,
   "metadata": {
    "collapsed": false
   },
   "outputs": [],
   "source": [
    "%matplotlib notebook\n",
    "\n",
    "import pandas as pd\n",
    "import numpy as np\n",
    "from sklearn.decomposition import PCA\n",
    "import matplotlib.pyplot as plt\n",
    "import plotly.plotly as py\n",
    "import plotly.graph_objs as go\n",
    "import plotly.offline\n",
    "#plotly.offline.plot"
   ]
  },
  {
   "cell_type": "code",
   "execution_count": 3,
   "metadata": {
    "collapsed": false,
    "scrolled": true
   },
   "outputs": [],
   "source": [
    "df = pd.read_csv(\"https://raw.githubusercontent.com/Niederb/political_science/master/PCA-parlament/5006-2016-wintersession-d.csv\")\n",
    "\n",
    "fraktionen = df[0:1]\n",
    "colors = {}\n",
    "colors[\"V\"] = 'darkgreen' #SVP\n",
    "colors[\"S\"] = 'red' #SP\n",
    "colors[\"RL\"] = 'blue' #FDP\n",
    "colors[\"C\"] = 'orange' #CVP\n",
    "colors[\"G\"] = 'green' #greens\n",
    "colors[\"BD\"] = 'yellow' #BDP\n",
    "colors[\"GL\"] = 'lightgreen' #GLP\n",
    "fraktionen_colors = [colors[i] for i in fraktionen.values[0]]\n"
   ]
  },
  {
   "cell_type": "code",
   "execution_count": 5,
   "metadata": {
    "collapsed": false
   },
   "outputs": [
    {
     "data": {
      "text/html": [
       "<iframe id=\"igraph\" scrolling=\"no\" style=\"border:none;\" seamless=\"seamless\" src=\"https://plot.ly/~Niederb/30.embed\" height=\"525px\" width=\"100%\"></iframe>"
      ],
      "text/plain": [
       "<plotly.tools.PlotlyDisplay object>"
      ]
     },
     "execution_count": 5,
     "metadata": {},
     "output_type": "execute_result"
    }
   ],
   "source": [
    "data= df[1:]\n",
    "\n",
    "pca = PCA(n_components=2)\n",
    "coordinates = pca.fit_transform(data.T)\n",
    "\n",
    "trace = go.Scatter(\n",
    "    x = coordinates[:, 0],\n",
    "    y = coordinates[:, 1],\n",
    "    mode = 'markers',\n",
    "    marker = dict(\n",
    "        size='16',\n",
    "        color = fraktionen_colors\n",
    "        ),\n",
    "    text=list(df)\n",
    ")\n",
    "layout = go.Layout(\n",
    "    hovermode = 'closest',\n",
    "    title='PCA analyse Nationalrat Wintersession 2016',\n",
    "    )\n",
    "data = [trace] \n",
    "fig = go.Figure(data=data, layout=layout)\n",
    "py.iplot(fig, filename='2d-PCA-wintersession-2016')#filename='basic-scatter')"
   ]
  },
  {
   "cell_type": "code",
   "execution_count": 6,
   "metadata": {
    "collapsed": false
   },
   "outputs": [
    {
     "data": {
      "text/html": [
       "<iframe id=\"igraph\" scrolling=\"no\" style=\"border:none;\" seamless=\"seamless\" src=\"https://plot.ly/~Niederb/32.embed\" height=\"525px\" width=\"100%\"></iframe>"
      ],
      "text/plain": [
       "<plotly.tools.PlotlyDisplay object>"
      ]
     },
     "execution_count": 6,
     "metadata": {},
     "output_type": "execute_result"
    }
   ],
   "source": [
    "data= df[1:]\n",
    "pca = PCA(n_components=3)\n",
    "coordinates = pca.fit_transform(data.T)\n",
    "\n",
    "trace = go.Scatter3d(\n",
    "    x = coordinates[:, 0],\n",
    "    y = coordinates[:, 1],\n",
    "    z = coordinates[:, 2],\n",
    "    mode = 'markers',\n",
    "    marker = dict(\n",
    "        size='16',\n",
    "        color = fraktionen_colors\n",
    "        ),\n",
    "    text=list(df)\n",
    ")\n",
    "layout = go.Layout(\n",
    "    hovermode = 'closest',\n",
    "    title='3D PCA analyse Nationalrat Wintersession 2016',\n",
    "    )\n",
    "data = [trace]\n",
    "fig = go.Figure(data=data, layout=layout)\n",
    "py.iplot(fig, filename='3d-PCA-wintersession-2016')\n",
    "#plotly.offline.plot(data, include_plotlyjs=True, output_type='div')"
   ]
  },
  {
   "cell_type": "code",
   "execution_count": null,
   "metadata": {
    "collapsed": true
   },
   "outputs": [],
   "source": []
  }
 ],
 "metadata": {
  "kernelspec": {
   "display_name": "Python 3",
   "language": "python",
   "name": "python3"
  },
  "language_info": {
   "codemirror_mode": {
    "name": "ipython",
    "version": 3
   },
   "file_extension": ".py",
   "mimetype": "text/x-python",
   "name": "python",
   "nbconvert_exporter": "python",
   "pygments_lexer": "ipython3",
   "version": "3.5.1"
  }
 },
 "nbformat": 4,
 "nbformat_minor": 0
}
