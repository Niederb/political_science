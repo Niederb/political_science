{
 "cells": [
  {
   "cell_type": "code",
   "execution_count": 35,
   "metadata": {
    "collapsed": false
   },
   "outputs": [],
   "source": [
    "%matplotlib notebook\n",
    "\n",
    "import pandas as pd\n",
    "import numpy as np\n",
    "from sklearn.decomposition import PCA\n",
    "import matplotlib.pyplot as plt\n",
    "import plotly.plotly as py\n",
    "import plotly.graph_objs as go\n",
    "import plotly.offline\n",
    "#plotly.offline.plot"
   ]
  },
  {
   "cell_type": "code",
   "execution_count": 28,
   "metadata": {
    "collapsed": false,
    "scrolled": true
   },
   "outputs": [],
   "source": [
    "df = pd.read_csv(\"https://raw.githubusercontent.com/Niederb/political_science/master/PCA-parlament/5006-2016-wintersession-d.csv\")\n",
    "\n",
    "fraktionen = df[0:1]\n",
    "colors = {}\n",
    "colors[\"V\"] = 'darkgreen' #SVP\n",
    "colors[\"S\"] = 'red' #SP\n",
    "colors[\"RL\"] = 'blue' #FDP\n",
    "colors[\"C\"] = 'orange' #CVP\n",
    "colors[\"G\"] = 'green' #greens\n",
    "colors[\"BD\"] = 'yellow' #BDP\n",
    "colors[\"GL\"] = 'lightgreen' #GLP\n",
    "fraktionen_colors = [colors[i] for i in fraktionen.values[0]]\n"
   ]
  },
  {
   "cell_type": "code",
   "execution_count": 39,
   "metadata": {
    "collapsed": false
   },
   "outputs": [
    {
     "data": {
      "text/html": [
       "<iframe id=\"igraph\" scrolling=\"no\" style=\"border:none;\" seamless=\"seamless\" src=\"https://plot.ly/~Niederb/16.embed\" height=\"525px\" width=\"100%\"></iframe>"
      ],
      "text/plain": [
       "<plotly.tools.PlotlyDisplay object>"
      ]
     },
     "execution_count": 39,
     "metadata": {},
     "output_type": "execute_result"
    }
   ],
   "source": [
    "data= df[1:]\n",
    "\n",
    "pca = PCA(n_components=2)\n",
    "coordinates = pca.fit_transform(data.T)\n",
    "\n",
    "trace = go.Scatter(\n",
    "    x = coordinates[:, 0],\n",
    "    y = coordinates[:, 1],\n",
    "    mode = 'markers',\n",
    "    marker = dict(\n",
    "        size='16',\n",
    "        color = fraktionen_colors\n",
    "        ),\n",
    "    text=list(df)\n",
    ")\n",
    "data = [trace] \n",
    "py.iplot(data, filename='show-legend')#filename='basic-scatter')"
   ]
  },
  {
   "cell_type": "code",
   "execution_count": 40,
   "metadata": {
    "collapsed": false
   },
   "outputs": [
    {
     "data": {
      "text/html": [
       "<iframe id=\"igraph\" scrolling=\"no\" style=\"border:none;\" seamless=\"seamless\" src=\"https://plot.ly/~Niederb/18.embed\" height=\"525px\" width=\"100%\"></iframe>"
      ],
      "text/plain": [
       "<plotly.tools.PlotlyDisplay object>"
      ]
     },
     "execution_count": 40,
     "metadata": {},
     "output_type": "execute_result"
    }
   ],
   "source": [
    "data= df[1:]\n",
    "pca = PCA(n_components=3)\n",
    "coordinates = pca.fit_transform(data.T)\n",
    "\n",
    "trace = go.Scatter3d(\n",
    "    x = coordinates[:, 0],\n",
    "    y = coordinates[:, 1],\n",
    "    z = coordinates[:, 2],\n",
    "    mode = 'markers',\n",
    "    marker = dict(\n",
    "        size='16',\n",
    "        color = fraktionen_colors\n",
    "        ),\n",
    "    text=list(df)\n",
    ")\n",
    "data = [trace]\n",
    "py.iplot(data, filename='basic-scatter')\n",
    "#plotly.offline.plot(data, include_plotlyjs=True, output_type='div')"
   ]
  },
  {
   "cell_type": "code",
   "execution_count": null,
   "metadata": {
    "collapsed": true
   },
   "outputs": [],
   "source": []
  }
 ],
 "metadata": {
  "kernelspec": {
   "display_name": "Python 3",
   "language": "python",
   "name": "python3"
  },
  "language_info": {
   "codemirror_mode": {
    "name": "ipython",
    "version": 3
   },
   "file_extension": ".py",
   "mimetype": "text/x-python",
   "name": "python",
   "nbconvert_exporter": "python",
   "pygments_lexer": "ipython3",
   "version": "3.5.1"
  }
 },
 "nbformat": 4,
 "nbformat_minor": 0
}
