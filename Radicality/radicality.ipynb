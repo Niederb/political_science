{
 "cells": [
  {
   "cell_type": "code",
   "execution_count": 5,
   "metadata": {
    "collapsed": false
   },
   "outputs": [],
   "source": [
    "import pandas as pd\n",
    "import numpy as np\n",
    "import plotly.plotly as py\n",
    "import plotly.graph_objs as go\n",
    "\n",
    "df = pd.read_csv(\"https://raw.githubusercontent.com/Niederb/political_science/master/gewinner-kantone/alle-volksabstimmungen-resultate.csv\", sep=\";\")#, encoding=\"ascii\")\n",
    "\n",
    "stimmberechtigte = pd.read_csv(\"https://raw.githubusercontent.com/Niederb/political_science/master/gewinner-kantone/stimmberechtigte.csv\", sep=\";\")\n",
    "\n",
    "data = df[list(df.columns[2:-1])] #df.ix[:,[2:5]]#'Schweiz':]\n",
    "\n",
    "data_mat = data.as_matrix()\n",
    "schweiz = data_mat[:, 0]\n",
    "kantone = data_mat[:, 1:]\n",
    "schweiz_thresholded = schweiz > 50\n",
    "kantone_thresholded = kantone > 50\n",
    "\n",
    "korrekt = schweiz_thresholded == kantone_thresholded.T\n",
    "korrekt = korrekt.T\n",
    "success_rate = np.mean(korrekt, 0)\n",
    "\n",
    "radicality = np.mean(np.abs(kantone - 50.0), 0)\n",
    "\n",
    "stimmberechtigte_2 = np.mean(stimmberechtigte.as_matrix(), 0)\n",
    "kantonsnamen = list(stimmberechtigte)\n"
   ]
  },
  {
   "cell_type": "code",
   "execution_count": 8,
   "metadata": {
    "collapsed": false
   },
   "outputs": [
    {
     "data": {
      "text/html": [
       "<iframe id=\"igraph\" scrolling=\"no\" style=\"border:none;\" seamless=\"seamless\" src=\"https://plot.ly/~Niederb/42.embed\" height=\"525px\" width=\"100%\"></iframe>"
      ],
      "text/plain": [
       "<plotly.tools.PlotlyDisplay object>"
      ]
     },
     "execution_count": 8,
     "metadata": {},
     "output_type": "execute_result"
    }
   ],
   "source": [
    "trace = go.Scatter(\n",
    "    x = radicality,\n",
    "    y = stimmberechtigte_2,\n",
    "    mode = 'markers',\n",
    "    text=kantonsnamen,\n",
    "    marker = dict(\n",
    "        size = 20,\n",
    "        color = 'rgba(255, 161, 0, 1.0)',\n",
    "        line = dict(\n",
    "            width = 2,\n",
    "            )\n",
    "        ),\n",
    ")\n",
    "layout = go.Layout(\n",
    "    hovermode = 'closest',\n",
    "    title='Radikalität vs Stimmberechtigte',\n",
    "    xaxis=dict(title='Radikalität'),\n",
    "    yaxis=dict(title='Anzahl Stimmberechtigte (Durchschnitt)')\n",
    "    )\n",
    "data = [trace] \n",
    "fig = go.Figure(data=data, layout=layout)\n",
    "py.iplot(fig, filename='radicality-size')"
   ]
  },
  {
   "cell_type": "code",
   "execution_count": 9,
   "metadata": {
    "collapsed": false
   },
   "outputs": [
    {
     "data": {
      "text/html": [
       "<iframe id=\"igraph\" scrolling=\"no\" style=\"border:none;\" seamless=\"seamless\" src=\"https://plot.ly/~Niederb/44.embed\" height=\"525px\" width=\"100%\"></iframe>"
      ],
      "text/plain": [
       "<plotly.tools.PlotlyDisplay object>"
      ]
     },
     "execution_count": 9,
     "metadata": {},
     "output_type": "execute_result"
    }
   ],
   "source": [
    "trace = go.Scatter(\n",
    "    x = radicality,\n",
    "    y = success_rate,\n",
    "    mode = 'markers',\n",
    "    text=kantonsnamen,\n",
    "    marker = dict(\n",
    "        size = 20,\n",
    "        color = 'rgba(255, 161, 0, 1.0)',\n",
    "        line = dict(\n",
    "            width = 2,\n",
    "            )\n",
    "        ),\n",
    ")\n",
    "layout = go.Layout(\n",
    "    hovermode = 'closest',\n",
    "    title='Radikalität vs Erfolgsrate',\n",
    "    xaxis=dict(title='Radikalität'),\n",
    "    yaxis=dict(title='Erfolgsrate in %'),\n",
    "    )\n",
    "data = [trace] \n",
    "fig = go.Figure(data=data, layout=layout)\n",
    "py.iplot(fig, filename='radicality-success')"
   ]
  },
  {
   "cell_type": "code",
   "execution_count": null,
   "metadata": {
    "collapsed": true
   },
   "outputs": [],
   "source": []
  }
 ],
 "metadata": {
  "kernelspec": {
   "display_name": "Python 3",
   "language": "python",
   "name": "python3"
  },
  "language_info": {
   "codemirror_mode": {
    "name": "ipython",
    "version": 3
   },
   "file_extension": ".py",
   "mimetype": "text/x-python",
   "name": "python",
   "nbconvert_exporter": "python",
   "pygments_lexer": "ipython3",
   "version": "3.5.1"
  }
 },
 "nbformat": 4,
 "nbformat_minor": 2
}
